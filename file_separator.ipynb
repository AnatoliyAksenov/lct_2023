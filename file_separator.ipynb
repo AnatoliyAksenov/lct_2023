{
 "cells": [
  {
   "cell_type": "code",
   "execution_count": 9,
   "id": "96ee7577-1e03-478b-8e9d-058a769f3adb",
   "metadata": {},
   "outputs": [],
   "source": [
    "import os\n",
    "import json\n",
    "\n",
    "import pandas as pd"
   ]
  },
  {
   "cell_type": "code",
   "execution_count": 10,
   "id": "5b94cdc2-7af7-4aed-8a3f-e47573e8b54a",
   "metadata": {},
   "outputs": [],
   "source": [
    "df = pd.read_parquet('data/X_train.parquet')\n",
    "X_test = pd.read_parquet('/root/data/X_test.parquet')"
   ]
  },
  {
   "cell_type": "code",
   "execution_count": 14,
   "id": "493f3413-100d-449b-961e-2fc006472a82",
   "metadata": {},
   "outputs": [],
   "source": [
    "PATH_TRAIN = '/root/sep_data'\n",
    "TEMPLATE_TRAIN = 'X_exhauster%s_train.parquet'\n",
    "PATH_TEST = '/root/sep_data'\n",
    "TEMPLATE_TEST = 'X_exhauster%s_test.parquet'"
   ]
  },
  {
   "cell_type": "code",
   "execution_count": 25,
   "id": "e92fbe13-07df-4d26-824e-8bc2bf25668d",
   "metadata": {},
   "outputs": [],
   "source": [
    "PATH_TARGET = '/root/sep_data'\n",
    "TEMPLATE_TARGET = 'Y_%s_train.parquet'"
   ]
  },
  {
   "cell_type": "code",
   "execution_count": 15,
   "id": "db4643d1-7c24-4627-b09a-13e57b911396",
   "metadata": {},
   "outputs": [],
   "source": [
    "for x in range(4,10):\n",
    "    search = 'ЭКСГАУСТЕР %s.' % x\n",
    "    exh = [x for x in df.columns if x.startswith(search)]\n",
    "    df[ exh ].to_parquet( os.path.join(PATH_TRAIN, TEMPLATE_TRAIN % x) )\n",
    "    X_test.fillna(method='bfill')[ exh ].to_parquet(os.path.join(PATH_TEST, TEMPLATE_TEST % x))\n"
   ]
  },
  {
   "cell_type": "code",
   "execution_count": 16,
   "id": "63353040-047a-417e-a97c-30181ca04eda",
   "metadata": {},
   "outputs": [],
   "source": [
    "del df\n",
    "del X_test"
   ]
  },
  {
   "cell_type": "code",
   "execution_count": 17,
   "id": "b01a1f21-6723-495a-be8c-4ef9ab2ab2d3",
   "metadata": {},
   "outputs": [],
   "source": [
    "dfy = pd.read_parquet('data/y_train.parquet')"
   ]
  },
  {
   "cell_type": "code",
   "execution_count": null,
   "id": "ed2fa908-c914-4eee-8fbc-0cbff8179486",
   "metadata": {},
   "outputs": [],
   "source": []
  },
  {
   "cell_type": "code",
   "execution_count": 29,
   "id": "ee68b5d5-dd75-4d7f-9a57-cd4125126a63",
   "metadata": {},
   "outputs": [],
   "source": [
    "# Target names\n",
    "if os.path.exists( os.path.join(PATH_TRAIN, 'Y_columns.json') ):\n",
    "    with open( os.path.join(PATH_TRAIN, 'Y_columns.json'), 'rb') as f:\n",
    "        Y_columns = json.loads(f.read().decode('utf-8'))\n",
    "else:\n",
    "    with open(os.path.join(PATH_TRAIN, 'Y_columns.json'), 'wb') as f:\n",
    "        Y_columns = list(dfy.columns)\n",
    "        lst = json.dumps(Y_columns)\n",
    "        f.write(lst.encode('utf-8'))"
   ]
  },
  {
   "cell_type": "code",
   "execution_count": null,
   "id": "2a57936c-92b6-4045-83d0-e5374e393f0e",
   "metadata": {},
   "outputs": [],
   "source": []
  },
  {
   "cell_type": "code",
   "execution_count": 31,
   "id": "5bd88870-0867-48fe-bc0f-19b2675733ea",
   "metadata": {},
   "outputs": [],
   "source": [
    "target_col_data = {\n",
    "    \"exhauster4\": slice(93,116), \n",
    "    \"exhauster5\": slice(28,62),\n",
    "    \"exhauster6\": slice(148,175),\n",
    "    \"exhauster7\": slice(116,148),\n",
    "    \"exhauster8\": slice(62,93),\n",
    "    \"exhauster9\": slice(0,28),\n",
    "}"
   ]
  },
  {
   "cell_type": "code",
   "execution_count": 35,
   "id": "c13f4177-e096-4b91-8755-d88d9a40c559",
   "metadata": {},
   "outputs": [],
   "source": [
    "for x in target_col_data:\n",
    "    sl = target_col_data[x]\n",
    "    dfy[ Y_columns[sl] ].to_parquet( os.path.join(PATH_TARGET, TEMPLATE_TARGET % x) )"
   ]
  },
  {
   "cell_type": "code",
   "execution_count": null,
   "id": "65069497-6259-4368-b9ee-2ce1a90ebed5",
   "metadata": {},
   "outputs": [],
   "source": []
  }
 ],
 "metadata": {
  "kernelspec": {
   "display_name": "Python 3 (ipykernel)",
   "language": "python",
   "name": "python3"
  },
  "language_info": {
   "codemirror_mode": {
    "name": "ipython",
    "version": 3
   },
   "file_extension": ".py",
   "mimetype": "text/x-python",
   "name": "python",
   "nbconvert_exporter": "python",
   "pygments_lexer": "ipython3",
   "version": "3.10.6"
  }
 },
 "nbformat": 4,
 "nbformat_minor": 5
}
