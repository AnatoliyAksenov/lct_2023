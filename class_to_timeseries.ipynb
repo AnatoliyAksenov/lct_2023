{
 "cells": [
  {
   "cell_type": "markdown",
   "id": "56536c97",
   "metadata": {},
   "source": [
    "### From classification target to timeseries target"
   ]
  },
  {
   "cell_type": "code",
   "execution_count": 1,
   "id": "6351ae59-e417-4c80-a17c-b006a589897e",
   "metadata": {},
   "outputs": [],
   "source": [
    "import pandas as pd\n",
    "import numpy as np\n",
    "\n",
    "from prophet.serialize import model_to_json, model_from_json\n",
    "from prophet import Prophet\n",
    "\n",
    "# loading targets\n",
    "y_exh4 = pd.read_parquet('/root/data/y_exh4.parquet')"
   ]
  },
  {
   "cell_type": "code",
   "execution_count": 5,
   "id": "76516c16-7730-46e0-bbc2-b08bfd5b4d7f",
   "metadata": {},
   "outputs": [],
   "source": [
    "# prepare every target separately\n",
    "col = 'Y_ЭКСГАУСТЕР А/М №4_ЭЛЕКТРОДВИГАТЕЛЬ ДСПУ-140-84-4 ЭКСГ. №4'"
   ]
  },
  {
   "cell_type": "markdown",
   "id": "23bfae46",
   "metadata": {},
   "source": [
    "Основная идея в том, что заменить нули в таргете на монотонно возрастающую последовательность\n",
    "Тогда такой таргет можно использовать в аддитивных моделях"
   ]
  },
  {
   "cell_type": "code",
   "execution_count": 6,
   "id": "cb530516-cd14-4720-aa44-e62e0bc1c6a9",
   "metadata": {},
   "outputs": [],
   "source": [
    "find_span = y_exh4[[col]].copy()\n",
    "\n",
    "# делаем сквозную нумерацию внутри группы\n",
    "find_span['rn'] = find_span.rank(method='first')\n",
    "\n",
    "# делаем сдвиг\n",
    "find_span['lrn'] = find_span['rn'].shift(1).fillna(0)\n",
    "\n",
    "# раница исходного столбца со сдвигом дает везде единицу, а в начале группы отличное от 1\n",
    "find_span['rnk'] = ((find_span['rn'] - find_span['lrn']) - 1)\n",
    "\n",
    "# делим столбец сам на себя и получаем везде NaN, где были нули\n",
    "# нарастающим итогом нумеруем группы, уже каждую группу отдельно\n",
    "find_span['rnk'] = (find_span['rnk']/find_span['rnk']).fillna(0).cumsum()\n",
    "\n",
    "# Меняем, чтобы М3 было `1``, а М1 - `2` \n",
    "find_span['event'] = find_span[ col ].map( {0: 0, 2: 1, 1: 2} )\n",
    "find_span['cnt'] = find_span.groupby('rnk')['rn'].transform( 'count' )\n",
    "find_span['i'] = 1\n",
    "find_span['grn'] = find_span.groupby('rnk')['i'].transform( 'cumsum' )"
   ]
  },
  {
   "cell_type": "code",
   "execution_count": 11,
   "id": "1bfec57e-b69f-4866-abb6-da58ade34dc1",
   "metadata": {},
   "outputs": [],
   "source": [
    "# делаем последовательность внутри группы монотонно возрастающей\n",
    "find_span['add'] = (find_span['event'] * find_span['grn'])/( (find_span['cnt']/2)* (find_span['cnt'] + 1))"
   ]
  },
  {
   "cell_type": "code",
   "execution_count": 12,
   "id": "a7b4bab8-a100-4e97-95e2-19e93ee0dc37",
   "metadata": {},
   "outputs": [
    {
     "data": {
      "text/plain": [
       "rnk\n",
       "0.0     0.0\n",
       "1.0     1.0\n",
       "2.0     2.0\n",
       "3.0     1.0\n",
       "4.0     0.0\n",
       "5.0     2.0\n",
       "6.0     0.0\n",
       "7.0     1.0\n",
       "8.0     0.0\n",
       "9.0     1.0\n",
       "10.0    0.0\n",
       "11.0    1.0\n",
       "Name: add, dtype: float64"
      ]
     },
     "execution_count": 12,
     "metadata": {},
     "output_type": "execute_result"
    }
   ],
   "source": [
    "# проверяем, сумма должно быть или 1 или 2\n",
    "find_span.groupby('rnk')['add'].sum()"
   ]
  },
  {
   "cell_type": "code",
   "execution_count": 16,
   "id": "ccd7b90d-c1ee-40d8-84da-c3ef6f6b084b",
   "metadata": {},
   "outputs": [
    {
     "data": {
      "text/plain": [
       "<Axes: xlabel='DT'>"
      ]
     },
     "execution_count": 16,
     "metadata": {},
     "output_type": "execute_result"
    },
    {
     "data": {
      "image/png": "[encoded data removed]",
      "text/plain": [
       "<Figure size 640x480 with 1 Axes>"
      ]
     },
     "metadata": {},
     "output_type": "display_data"
    }
   ],
   "source": [
    "# Рисуем, из-за усреднения видим два скоса у вершин, но в данных только один\n",
    "find_span['add'].resample('2M').mean().plot()"
   ]
  },
  {
   "cell_type": "code",
   "execution_count": 244,
   "id": "878899fa-d628-429e-99fc-b57adbe7f27a",
   "metadata": {},
   "outputs": [],
   "source": [
    "find_span['add'].reset_index().to_parquet('/root/data/y_exh4_timestamp.parquet')"
   ]
  },
  {
   "cell_type": "code",
   "execution_count": 18,
   "id": "c51d5c35-ace7-4a70-a53a-53eb1e808c29",
   "metadata": {},
   "outputs": [],
   "source": [
    "X = pd.read_parquet('/root/data/X_exh4.parquet')"
   ]
  },
  {
   "cell_type": "code",
   "execution_count": 19,
   "id": "5e63d39a-b7a5-4f34-acd3-1f6e3fb5fa6d",
   "metadata": {},
   "outputs": [],
   "source": [
    "X['y'] = find_span['add']"
   ]
  },
  {
   "cell_type": "code",
   "execution_count": 20,
   "id": "489af3d6-8df3-4602-be51-ba98039a11c8",
   "metadata": {},
   "outputs": [],
   "source": [
    "X['ds'] = X.index"
   ]
  },
  {
   "cell_type": "code",
   "execution_count": 22,
   "id": "f2b5b014-a0ac-4c76-91d5-0d5c7212cc94",
   "metadata": {},
   "outputs": [],
   "source": [
    "# горизонт предсказания 30 дней\n",
    "pr = Prophet(interval_width=30*24*60*6)"
   ]
  },
  {
   "cell_type": "code",
   "execution_count": null,
   "id": "968eaef2-15e7-4b82-b5c7-164d65f70bd6",
   "metadata": {},
   "outputs": [
    {
     "name": "stderr",
     "output_type": "stream",
     "text": [
      "19:44:29 - cmdstanpy - INFO - Chain [1] start processing\n",
      "20:08:41 - cmdstanpy - INFO - Chain [1] done processing\n",
      "20:08:41 - cmdstanpy - ERROR - Chain [1] error: terminated by signal 9 Unknown error -9\n",
      "Optimization terminated abnormally. Falling back to Newton.\n",
      "20:14:53 - cmdstanpy - INFO - Chain [1] start processing\n"
     ]
    }
   ],
   "source": [
    "pr.fit(X)"
   ]
  },
  {
   "cell_type": "code",
   "execution_count": null,
   "id": "84a3509b",
   "metadata": {},
   "outputs": [],
   "source": [
    "# не получается обучть модель\n",
    "# - не хватает памяти\n",
    "# - что-то пушит на диск, но добавление места помогло\n",
    "# - очень долго обучается, не удалось дождаться завершения процесса"
   ]
  },
  {
   "cell_type": "code",
   "execution_count": null,
   "id": "cc9dfff5-76be-4d37-bd1d-3468837d14d3",
   "metadata": {},
   "outputs": [],
   "source": [
    "mj = model_to_json(pr)"
   ]
  },
  {
   "cell_type": "code",
   "execution_count": 26,
   "id": "98fc9ae7-f9bd-4be7-9bf7-25431e13dcfa",
   "metadata": {},
   "outputs": [],
   "source": []
  },
  {
   "cell_type": "code",
   "execution_count": null,
   "id": "580aad19-c0a5-4f2b-9af9-868a272d6022",
   "metadata": {},
   "outputs": [],
   "source": []
  }
 ],
 "metadata": {
  "kernelspec": {
   "display_name": "Python 3 (ipykernel)",
   "language": "python",
   "name": "python3"
  },
  "language_info": {
   "codemirror_mode": {
    "name": "ipython",
    "version": 3
   },
   "file_extension": ".py",
   "mimetype": "text/x-python",
   "name": "python",
   "nbconvert_exporter": "python",
   "pygments_lexer": "ipython3",
   "version": "3.10.6"
  }
 },
 "nbformat": 4,
 "nbformat_minor": 5
}
